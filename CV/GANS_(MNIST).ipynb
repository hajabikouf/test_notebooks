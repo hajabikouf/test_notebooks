{
  "nbformat": 4,
  "nbformat_minor": 0,
  "metadata": {
    "colab": {
      "name": "GANS (MNIST)",
      "provenance": [],
      "collapsed_sections": [],
      "toc_visible": true
    },
    "kernelspec": {
      "name": "python3",
      "display_name": "Python 3"
    },
    "accelerator": "GPU"
  },
  "cells": [
    {
      "cell_type": "markdown",
      "metadata": {
        "id": "W_Ts4VcbEnyU"
      },
      "source": [
        "# Imports"
      ]
    },
    {
      "cell_type": "code",
      "metadata": {
        "id": "dAZv-HdbhN6q"
      },
      "source": [
        "import pandas as pd\n",
        "import numpy as np\n",
        "import matplotlib.pyplot as plt\n",
        "import os,glob,sys\n",
        "import PIL\n",
        "import tensorflow as tf\n",
        "import imageio\n",
        "from tensorflow.keras.backend import clear_session\n",
        "from keras.initializers import RandomNormal\n",
        "from tensorflow.keras.models import Model\n",
        "from tensorflow.keras.layers import Input, Dense, Flatten, Dropout, BatchNormalization, Conv2D, Conv2DTranspose, LeakyReLU, Reshape\n",
        "from tensorflow.keras.optimizers import Adam\n",
        "from tensorflow.keras.losses import binary_crossentropy\n",
        "from tensorflow.keras.preprocessing import image\n",
        "from tensorflow.keras.preprocessing.image import ImageDataGenerator\n",
        "import time "
      ],
      "execution_count": 11,
      "outputs": []
    },
    {
      "cell_type": "markdown",
      "metadata": {
        "id": "W2nsm6I4xlwK"
      },
      "source": [
        "### Using this post as a guide to some of the modifications in the code\n",
        "https://towardsdatascience.com/10-lessons-i-learned-training-generative-adversarial-networks-gans-for-a-year-c9071159628"
      ]
    },
    {
      "cell_type": "code",
      "metadata": {
        "id": "vTI3ngX9VBuG",
        "colab": {
          "base_uri": "https://localhost:8080/"
        },
        "outputId": "2583483a-15ac-4993-cdc9-16b5d4e65e46"
      },
      "source": [
        "# To generate GIFs\n",
        "!pip install -q imageio\n",
        "!pip install -q git+https://github.com/tensorflow/docs"
      ],
      "execution_count": 12,
      "outputs": [
        {
          "output_type": "stream",
          "text": [
            "\u001b[?25l\r\u001b[K     |▎                               | 10kB 25.4MB/s eta 0:00:01\r\u001b[K     |▋                               | 20kB 13.3MB/s eta 0:00:01\r\u001b[K     |█                               | 30kB 10.0MB/s eta 0:00:01\r\u001b[K     |█▎                              | 40kB 8.6MB/s eta 0:00:01\r\u001b[K     |█▋                              | 51kB 5.4MB/s eta 0:00:01\r\u001b[K     |██                              | 61kB 5.9MB/s eta 0:00:01\r\u001b[K     |██▎                             | 71kB 6.2MB/s eta 0:00:01\r\u001b[K     |██▋                             | 81kB 6.6MB/s eta 0:00:01\r\u001b[K     |██▉                             | 92kB 6.9MB/s eta 0:00:01\r\u001b[K     |███▏                            | 102kB 6.9MB/s eta 0:00:01\r\u001b[K     |███▌                            | 112kB 6.9MB/s eta 0:00:01\r\u001b[K     |███▉                            | 122kB 6.9MB/s eta 0:00:01\r\u001b[K     |████▏                           | 133kB 6.9MB/s eta 0:00:01\r\u001b[K     |████▌                           | 143kB 6.9MB/s eta 0:00:01\r\u001b[K     |████▉                           | 153kB 6.9MB/s eta 0:00:01\r\u001b[K     |█████▏                          | 163kB 6.9MB/s eta 0:00:01\r\u001b[K     |█████▍                          | 174kB 6.9MB/s eta 0:00:01\r\u001b[K     |█████▊                          | 184kB 6.9MB/s eta 0:00:01\r\u001b[K     |██████                          | 194kB 6.9MB/s eta 0:00:01\r\u001b[K     |██████▍                         | 204kB 6.9MB/s eta 0:00:01\r\u001b[K     |██████▊                         | 215kB 6.9MB/s eta 0:00:01\r\u001b[K     |███████                         | 225kB 6.9MB/s eta 0:00:01\r\u001b[K     |███████▍                        | 235kB 6.9MB/s eta 0:00:01\r\u001b[K     |███████▊                        | 245kB 6.9MB/s eta 0:00:01\r\u001b[K     |████████                        | 256kB 6.9MB/s eta 0:00:01\r\u001b[K     |████████▎                       | 266kB 6.9MB/s eta 0:00:01\r\u001b[K     |████████▋                       | 276kB 6.9MB/s eta 0:00:01\r\u001b[K     |█████████                       | 286kB 6.9MB/s eta 0:00:01\r\u001b[K     |█████████▎                      | 296kB 6.9MB/s eta 0:00:01\r\u001b[K     |█████████▋                      | 307kB 6.9MB/s eta 0:00:01\r\u001b[K     |██████████                      | 317kB 6.9MB/s eta 0:00:01\r\u001b[K     |██████████▎                     | 327kB 6.9MB/s eta 0:00:01\r\u001b[K     |██████████▋                     | 337kB 6.9MB/s eta 0:00:01\r\u001b[K     |██████████▉                     | 348kB 6.9MB/s eta 0:00:01\r\u001b[K     |███████████▏                    | 358kB 6.9MB/s eta 0:00:01\r\u001b[K     |███████████▌                    | 368kB 6.9MB/s eta 0:00:01\r\u001b[K     |███████████▉                    | 378kB 6.9MB/s eta 0:00:01\r\u001b[K     |████████████▏                   | 389kB 6.9MB/s eta 0:00:01\r\u001b[K     |████████████▌                   | 399kB 6.9MB/s eta 0:00:01\r\u001b[K     |████████████▉                   | 409kB 6.9MB/s eta 0:00:01\r\u001b[K     |█████████████▏                  | 419kB 6.9MB/s eta 0:00:01\r\u001b[K     |█████████████▌                  | 430kB 6.9MB/s eta 0:00:01\r\u001b[K     |█████████████▊                  | 440kB 6.9MB/s eta 0:00:01\r\u001b[K     |██████████████                  | 450kB 6.9MB/s eta 0:00:01\r\u001b[K     |██████████████▍                 | 460kB 6.9MB/s eta 0:00:01\r\u001b[K     |██████████████▊                 | 471kB 6.9MB/s eta 0:00:01\r\u001b[K     |███████████████                 | 481kB 6.9MB/s eta 0:00:01\r\u001b[K     |███████████████▍                | 491kB 6.9MB/s eta 0:00:01\r\u001b[K     |███████████████▊                | 501kB 6.9MB/s eta 0:00:01\r\u001b[K     |████████████████                | 512kB 6.9MB/s eta 0:00:01\r\u001b[K     |████████████████▎               | 522kB 6.9MB/s eta 0:00:01\r\u001b[K     |████████████████▋               | 532kB 6.9MB/s eta 0:00:01\r\u001b[K     |█████████████████               | 542kB 6.9MB/s eta 0:00:01\r\u001b[K     |█████████████████▎              | 552kB 6.9MB/s eta 0:00:01\r\u001b[K     |█████████████████▋              | 563kB 6.9MB/s eta 0:00:01\r\u001b[K     |██████████████████              | 573kB 6.9MB/s eta 0:00:01\r\u001b[K     |██████████████████▎             | 583kB 6.9MB/s eta 0:00:01\r\u001b[K     |██████████████████▋             | 593kB 6.9MB/s eta 0:00:01\r\u001b[K     |███████████████████             | 604kB 6.9MB/s eta 0:00:01\r\u001b[K     |███████████████████▏            | 614kB 6.9MB/s eta 0:00:01\r\u001b[K     |███████████████████▌            | 624kB 6.9MB/s eta 0:00:01\r\u001b[K     |███████████████████▉            | 634kB 6.9MB/s eta 0:00:01\r\u001b[K     |████████████████████▏           | 645kB 6.9MB/s eta 0:00:01\r\u001b[K     |████████████████████▌           | 655kB 6.9MB/s eta 0:00:01\r\u001b[K     |████████████████████▉           | 665kB 6.9MB/s eta 0:00:01\r\u001b[K     |█████████████████████▏          | 675kB 6.9MB/s eta 0:00:01\r\u001b[K     |█████████████████████▌          | 686kB 6.9MB/s eta 0:00:01\r\u001b[K     |█████████████████████▊          | 696kB 6.9MB/s eta 0:00:01\r\u001b[K     |██████████████████████          | 706kB 6.9MB/s eta 0:00:01\r\u001b[K     |██████████████████████▍         | 716kB 6.9MB/s eta 0:00:01\r\u001b[K     |██████████████████████▊         | 727kB 6.9MB/s eta 0:00:01\r\u001b[K     |███████████████████████         | 737kB 6.9MB/s eta 0:00:01\r\u001b[K     |███████████████████████▍        | 747kB 6.9MB/s eta 0:00:01\r\u001b[K     |███████████████████████▊        | 757kB 6.9MB/s eta 0:00:01\r\u001b[K     |████████████████████████        | 768kB 6.9MB/s eta 0:00:01\r\u001b[K     |████████████████████████▍       | 778kB 6.9MB/s eta 0:00:01\r\u001b[K     |████████████████████████▋       | 788kB 6.9MB/s eta 0:00:01\r\u001b[K     |█████████████████████████       | 798kB 6.9MB/s eta 0:00:01\r\u001b[K     |█████████████████████████▎      | 808kB 6.9MB/s eta 0:00:01\r\u001b[K     |█████████████████████████▋      | 819kB 6.9MB/s eta 0:00:01\r\u001b[K     |██████████████████████████      | 829kB 6.9MB/s eta 0:00:01\r\u001b[K     |██████████████████████████▎     | 839kB 6.9MB/s eta 0:00:01\r\u001b[K     |██████████████████████████▋     | 849kB 6.9MB/s eta 0:00:01\r\u001b[K     |███████████████████████████     | 860kB 6.9MB/s eta 0:00:01\r\u001b[K     |███████████████████████████▏    | 870kB 6.9MB/s eta 0:00:01\r\u001b[K     |███████████████████████████▌    | 880kB 6.9MB/s eta 0:00:01\r\u001b[K     |███████████████████████████▉    | 890kB 6.9MB/s eta 0:00:01\r\u001b[K     |████████████████████████████▏   | 901kB 6.9MB/s eta 0:00:01\r\u001b[K     |████████████████████████████▌   | 911kB 6.9MB/s eta 0:00:01\r\u001b[K     |████████████████████████████▉   | 921kB 6.9MB/s eta 0:00:01\r\u001b[K     |█████████████████████████████▏  | 931kB 6.9MB/s eta 0:00:01\r\u001b[K     |█████████████████████████████▌  | 942kB 6.9MB/s eta 0:00:01\r\u001b[K     |█████████████████████████████▉  | 952kB 6.9MB/s eta 0:00:01\r\u001b[K     |██████████████████████████████  | 962kB 6.9MB/s eta 0:00:01\r\u001b[K     |██████████████████████████████▍ | 972kB 6.9MB/s eta 0:00:01\r\u001b[K     |██████████████████████████████▊ | 983kB 6.9MB/s eta 0:00:01\r\u001b[K     |███████████████████████████████ | 993kB 6.9MB/s eta 0:00:01\r\u001b[K     |███████████████████████████████▍| 1.0MB 6.9MB/s eta 0:00:01\r\u001b[K     |███████████████████████████████▊| 1.0MB 6.9MB/s eta 0:00:01\r\u001b[K     |████████████████████████████████| 1.0MB 6.9MB/s \n",
            "\u001b[?25h  Building wheel for tensorflow-docs (setup.py) ... \u001b[?25l\u001b[?25hdone\n"
          ],
          "name": "stdout"
        }
      ]
    },
    {
      "cell_type": "markdown",
      "metadata": {
        "id": "Q16rrxjHSmsU"
      },
      "source": [
        "# function definitions"
      ]
    },
    {
      "cell_type": "code",
      "metadata": {
        "id": "TlajS3dySwlK"
      },
      "source": [
        "# create discriminator model\n",
        "def discriminator(image_shape):\n",
        "\n",
        "    # we go from shape (w, h, 1)to shape \n",
        "\t# downsample to 14x14\n",
        "  init = RandomNormal(stddev=0.02)\n",
        "  i = Input(shape=(image_shape))\n",
        "  x = Conv2D(64, (3,3), strides=(2,2), padding='same', activation=LeakyReLU(alpha=0.2), kernel_initializer=init)(i)\n",
        "  x = Dropout(0.3)(x)\n",
        "  # downsample to 7x7\n",
        "  x = Conv2D(32, (3,3), strides=(2,2), padding='same', activation=LeakyReLU(alpha=0.2), kernel_initializer=init)(x)\n",
        "  x = Dropout(0.3)(x)\n",
        "  x = Flatten()(x)\n",
        "  x = Dense(1,activation='sigmoid')(x)\n",
        "\n",
        "  return Model(i, x)\n",
        "\n",
        "\n",
        "# create generator model\n",
        "def generator(latent_dim):\n",
        "\n",
        "  #### the returned model has output image of shape (28,28,1) just like the mnist dataset\n",
        "  # we go from shape space_shape to shape (w, h ,1)\n",
        "  n_nodes = 128 * 7 * 7\n",
        "  init = RandomNormal(stddev=0.02)\n",
        "  i = Input(shape=(latent_dim,))\n",
        "  x = Dense(n_nodes, activation=LeakyReLU(alpha=0.2), kernel_initializer=init)(i)\n",
        "  x = Reshape((7, 7, 128))(x)# we will start converting to image shapes to reverse conv\n",
        "  x = Conv2DTranspose(128,(3,3),strides=(2, 2), padding='same', activation=LeakyReLU(0.2), kernel_initializer=init)(x) # upsample to 14x14\n",
        "  x = Conv2DTranspose(128,(3,3),strides=(2, 2), padding='same', activation=LeakyReLU(0.2), kernel_initializer=init)(x) # upsample to 28x28\n",
        "  x = Conv2D(1, (7,7), activation='tanh',padding='same', kernel_initializer=init)(x)\n",
        "\n",
        "  return Model(i, x)\n",
        "\n",
        "\n",
        "# create compound model\n",
        "def gan(dis, gen):\n",
        "\n",
        "  # build and compile discreminator\n",
        "  dis.compile(loss='binary_crossentropy', optimizer=Adam(0.0005, 0.5),metrics=['accuracy'])\n",
        "  dis.trainable = False # discreminator in combined model will not be trained\n",
        "  latent_dim = gen.layers[0].input.shape[1]\n",
        "  # Build and compile the combined model\n",
        "  noise = Input(shape=(latent_dim,))# create noise input \n",
        "  img = gen(noise) # generate image from noise\n",
        "  fake_pred = dis(img)\n",
        "  combined_model = Model(noise, fake_pred)  # # Create the combined model object\n",
        "  combined_model.compile(loss='binary_crossentropy', optimizer=Adam(0.0001, 0.5))\n",
        "\n",
        "  return combined_model , dis ,gen\n",
        "\n",
        "\n",
        "def sample_images(epoch, gen):\n",
        "  rows, cols = 5, 5\n",
        "  noise = np.random.randn(rows * cols, LATENT_DIM)\n",
        "  imgs = gen.predict(noise)\n",
        "\n",
        "  # Rescale images 0 - 1\n",
        "  imgs = 0.5 * imgs + 0.5\n",
        "\n",
        "  fig, axs = plt.subplots(rows, cols,figsize=(15,15))\n",
        "  idx = 0\n",
        "  for i in range(rows):\n",
        "    for j in range(cols):\n",
        "      axs[i,j].imshow(imgs[idx].reshape(h, w), cmap='gray')\n",
        "      axs[i,j].axis('off')\n",
        "      idx += 1\n",
        "\n",
        "  fig.savefig(f'gan_images/{epoch}.png')\n",
        "  plt.close()\n",
        "\n",
        "\n",
        "def train(combined=None, dis=None, gen=None, BATCH_SIZE= 64, EPHOCHS= 100, CHECKPOINT=100, LATENT_DIM=None, train_cycle=1):\n",
        "  \n",
        "  if not os.path.exists('gan_images'):\n",
        "    os.makedirs('gan_images')\n",
        "  checkpoint_dir = './training_checkpoints'\n",
        "  checkpoint_prefix = os.path.join(checkpoint_dir, \"ckpt\")\n",
        "  ones = tf.ones([BATCH_SIZE,1]) \n",
        "  zeros = tf.zeros([BATCH_SIZE,1])\n",
        "  d_losses = []\n",
        "  g_losses = []\n",
        "\n",
        "  if train_cycle == 1:\n",
        "    start_range = 1\n",
        "  else:\n",
        "    start_range = EPHOCHS * (train_cycle - 1)\n",
        "    \n",
        "  print(f'Training will coninue from epoch {start_range} and will finish at epoch. {train_cycle * EPHOCHS}')\n",
        "  start = time.time()\n",
        "  for epoch in range(start_range , train_cycle * EPHOCHS + 1):\n",
        "    \n",
        "    fake = tf.random.normal((BATCH_SIZE,LATENT_DIM))\n",
        "    fake = gen.predict(fake)\n",
        "    idx = tf.random.uniform(shape=(BATCH_SIZE,1), minval=0,maxval=x_train.shape[0],dtype=tf.dtypes.int32)\n",
        "    real_imgs = x_train[idx]\n",
        "    real_imgs = real_imgs.reshape(BATCH_SIZE, w, h , 1)\n",
        "\n",
        "    # train discriminator\n",
        "    d_loss_real, d_acc_real = dis.train_on_batch(real_imgs, ones)\n",
        "    d_loss_fake, d_acc_fake = dis.train_on_batch(fake, zeros)\n",
        "    dis_loss = 0.5 * (d_loss_real + d_loss_fake)\n",
        "    dis_acc =  0.5 * (d_acc_real + d_acc_fake)\n",
        "\n",
        "    # train combined\n",
        "    noise = tf.random.normal([BATCH_SIZE,LATENT_DIM])# create noise input \n",
        "    gen_loss = combined.train_on_batch(noise, ones)\n",
        "\n",
        "    # do it again!\n",
        "    noise = tf.random.normal([BATCH_SIZE,LATENT_DIM])# create noise input \n",
        "    gen_loss = combined.train_on_batch(noise, ones)\n",
        "\n",
        "    # # do it again!\n",
        "    # noise = tf.random.normal([BATCH_SIZE,LATENT_DIM])# create noise input \n",
        "    # gen_loss = combined.train_on_batch(noise, ones)\n",
        "    \n",
        "    if epoch  % CHECKPOINT == 0:\n",
        "      # save checkpoint and images\n",
        "      # print('checkpoint saved') \n",
        "      combined.save_weights(os.path.join(checkpoint_prefix, f'combined_epoch_{epoch}'))\n",
        "      dis.save_weights(os.path.join(checkpoint_prefix, f'dis_epoch_{epoch}'))\n",
        "      gen.save_weights(os.path.join(checkpoint_prefix, f'gen_epoch_{epoch}'))\n",
        "      sample_images(epoch, gen)\n",
        "      print(f\"epoch: {epoch}/{train_cycle * EPHOCHS}, time: {(time.time()-start):.2f}s , d_loss: {dis_loss:.2f}, d_acc: {dis_acc:.2f}, g_loss: {gen_loss:.2f}\")\n",
        "      start = time.time()\n",
        "\n",
        "    d_losses.append(dis_loss)\n",
        "    g_losses.append(gen_loss)\n",
        "\n",
        "  return g_losses, d_losses , combined, dis, gen"
      ],
      "execution_count": 13,
      "outputs": []
    },
    {
      "cell_type": "markdown",
      "metadata": {
        "id": "LnlDpz8Zr3JM"
      },
      "source": [
        "# load dataset "
      ]
    },
    {
      "cell_type": "code",
      "metadata": {
        "colab": {
          "base_uri": "https://localhost:8080/"
        },
        "id": "Eaj-bwBORBM4",
        "outputId": "33d29457-d8d4-4940-bc56-5d78417ffc3c"
      },
      "source": [
        "#load mnist data\n",
        "(x_train, y_train), (_,_)  = tf.keras.datasets.mnist.load_data()\n",
        "x_train = x_train / 255.0 * 2 - 1 # reshape from 0-255 to -1 1 \n",
        "w = x_train[0].shape[0]\n",
        "h = x_train[0].shape[1]\n",
        "# x_train = x_train.reshape(-1, w, h, 1)\n",
        "x_train.shape"
      ],
      "execution_count": 14,
      "outputs": [
        {
          "output_type": "execute_result",
          "data": {
            "text/plain": [
              "(60000, 28, 28)"
            ]
          },
          "metadata": {
            "tags": []
          },
          "execution_count": 14
        }
      ]
    },
    {
      "cell_type": "code",
      "metadata": {
        "colab": {
          "base_uri": "https://localhost:8080/",
          "height": 282
        },
        "id": "QNFmJqyER4DN",
        "outputId": "f981aa1a-4b23-4e7f-c08d-13ba180a04e3"
      },
      "source": [
        "plt.imshow(x_train[5].reshape(w,h),cmap='gray')"
      ],
      "execution_count": 15,
      "outputs": [
        {
          "output_type": "execute_result",
          "data": {
            "text/plain": [
              "<matplotlib.image.AxesImage at 0x7f64b00a9f28>"
            ]
          },
          "metadata": {
            "tags": []
          },
          "execution_count": 15
        },
        {
          "output_type": "display_data",
          "data": {
            "image/png": "[encoded data removed]",
            "text/plain": [
              "<Figure size 432x288 with 1 Axes>"
            ]
          },
          "metadata": {
            "tags": [],
            "needs_background": "light"
          }
        }
      ]
    },
    {
      "cell_type": "code",
      "metadata": {
        "id": "kAdOFwuCbMxv"
      },
      "source": [
        "# clear old checkpoint to start new\n",
        "! rm -rf ./training_checkpoints\n",
        "!rm -rf gan_images\n",
        "!rm -rf dcgan.gif"
      ],
      "execution_count": 16,
      "outputs": []
    },
    {
      "cell_type": "markdown",
      "metadata": {
        "id": "QdghuddtHAeg"
      },
      "source": [
        "# Train GAN"
      ]
    },
    {
      "cell_type": "code",
      "metadata": {
        "id": "vofqqUeAHFpd"
      },
      "source": [
        "IMAGE_SHAPE = x_train[0].shape\n",
        "IMAGE_SHAPE = IMAGE_SHAPE + (1 ,)\n",
        "LATENT_DIM = 100\n",
        "BATCH_SIZE = 128\n",
        "EPHOCHS = 10000\n",
        "CHECKPOINT = 100\n",
        "clear_session() # clearing seession so when new models created the have same layer names and saved models\n",
        "dis = discriminator(IMAGE_SHAPE)\n",
        "gen = generator(LATENT_DIM)\n",
        "combined , dis, gen = gan(dis, gen)"
      ],
      "execution_count": 17,
      "outputs": []
    },
    {
      "cell_type": "code",
      "metadata": {
        "colab": {
          "base_uri": "https://localhost:8080/"
        },
        "id": "nBEdppfn0Ryb",
        "outputId": "56cf53b6-a13f-480d-fb28-75469923e74a"
      },
      "source": [
        "old_train_cycle = 0\n",
        "g_losses, d_losses, c, d, g = train(combined, dis, gen, BATCH_SIZE, EPHOCHS, CHECKPOINT, LATENT_DIM, train_cycle=old_train_cycle+1)\n",
        "old_train_cycle  += 1"
      ],
      "execution_count": 18,
      "outputs": [
        {
          "output_type": "stream",
          "text": [
            "Training will coninue from epoch 1 and will finish at epoch. 10000\n",
            "epoch: 100/10000, time: 23.05s , d_loss: 0.72, d_acc: 0.52, g_loss: 0.86\n",
            "epoch: 200/10000, time: 15.21s , d_loss: 0.68, d_acc: 0.53, g_loss: 0.81\n",
            "epoch: 300/10000, time: 15.07s , d_loss: 0.67, d_acc: 0.61, g_loss: 0.76\n",
            "epoch: 400/10000, time: 14.91s , d_loss: 0.67, d_acc: 0.59, g_loss: 0.76\n",
            "epoch: 500/10000, time: 15.12s , d_loss: 0.70, d_acc: 0.49, g_loss: 0.68\n",
            "epoch: 600/10000, time: 15.48s , d_loss: 0.68, d_acc: 0.60, g_loss: 0.72\n",
            "epoch: 700/10000, time: 15.40s , d_loss: 0.69, d_acc: 0.57, g_loss: 0.73\n",
            "epoch: 800/10000, time: 15.98s , d_loss: 0.68, d_acc: 0.55, g_loss: 0.70\n",
            "epoch: 900/10000, time: 15.33s , d_loss: 0.66, d_acc: 0.70, g_loss: 0.78\n",
            "epoch: 1000/10000, time: 15.11s , d_loss: 0.68, d_acc: 0.58, g_loss: 0.72\n",
            "epoch: 1100/10000, time: 15.03s , d_loss: 0.72, d_acc: 0.46, g_loss: 0.66\n",
            "epoch: 1200/10000, time: 14.68s , d_loss: 0.70, d_acc: 0.46, g_loss: 0.69\n",
            "epoch: 1300/10000, time: 14.87s , d_loss: 0.69, d_acc: 0.53, g_loss: 0.69\n",
            "epoch: 1400/10000, time: 15.20s , d_loss: 0.68, d_acc: 0.62, g_loss: 0.74\n",
            "epoch: 1500/10000, time: 15.76s , d_loss: 0.70, d_acc: 0.48, g_loss: 0.70\n",
            "epoch: 1600/10000, time: 15.61s , d_loss: 0.69, d_acc: 0.50, g_loss: 0.69\n",
            "epoch: 1700/10000, time: 15.36s , d_loss: 0.69, d_acc: 0.53, g_loss: 0.72\n",
            "epoch: 1800/10000, time: 15.39s , d_loss: 0.67, d_acc: 0.65, g_loss: 0.73\n",
            "epoch: 1900/10000, time: 15.30s , d_loss: 0.67, d_acc: 0.69, g_loss: 0.74\n",
            "epoch: 2000/10000, time: 15.62s , d_loss: 0.69, d_acc: 0.53, g_loss: 0.71\n",
            "epoch: 2100/10000, time: 15.35s , d_loss: 0.70, d_acc: 0.47, g_loss: 0.68\n",
            "epoch: 2200/10000, time: 15.16s , d_loss: 0.69, d_acc: 0.53, g_loss: 0.72\n",
            "epoch: 2300/10000, time: 15.17s , d_loss: 0.69, d_acc: 0.59, g_loss: 0.74\n",
            "epoch: 2400/10000, time: 15.18s , d_loss: 0.67, d_acc: 0.62, g_loss: 0.78\n",
            "epoch: 2500/10000, time: 15.06s , d_loss: 0.67, d_acc: 0.61, g_loss: 0.74\n",
            "epoch: 2600/10000, time: 15.62s , d_loss: 0.68, d_acc: 0.54, g_loss: 0.73\n",
            "epoch: 2700/10000, time: 14.93s , d_loss: 0.68, d_acc: 0.59, g_loss: 0.74\n",
            "epoch: 2800/10000, time: 15.04s , d_loss: 0.68, d_acc: 0.60, g_loss: 0.73\n",
            "epoch: 2900/10000, time: 15.00s , d_loss: 0.69, d_acc: 0.55, g_loss: 0.73\n",
            "epoch: 3000/10000, time: 15.18s , d_loss: 0.68, d_acc: 0.57, g_loss: 0.73\n",
            "epoch: 3100/10000, time: 15.30s , d_loss: 0.68, d_acc: 0.55, g_loss: 0.75\n",
            "epoch: 3200/10000, time: 15.31s , d_loss: 0.69, d_acc: 0.53, g_loss: 0.72\n",
            "epoch: 3300/10000, time: 15.98s , d_loss: 0.68, d_acc: 0.57, g_loss: 0.73\n",
            "epoch: 3400/10000, time: 15.12s , d_loss: 0.69, d_acc: 0.56, g_loss: 0.75\n",
            "epoch: 3500/10000, time: 14.98s , d_loss: 0.70, d_acc: 0.51, g_loss: 0.71\n",
            "epoch: 3600/10000, time: 14.94s , d_loss: 0.70, d_acc: 0.54, g_loss: 0.72\n",
            "epoch: 3700/10000, time: 14.91s , d_loss: 0.68, d_acc: 0.61, g_loss: 0.73\n",
            "epoch: 3800/10000, time: 14.95s , d_loss: 0.65, d_acc: 0.68, g_loss: 0.76\n",
            "epoch: 3900/10000, time: 14.99s , d_loss: 0.66, d_acc: 0.62, g_loss: 0.77\n",
            "epoch: 4000/10000, time: 14.93s , d_loss: 0.71, d_acc: 0.49, g_loss: 0.69\n",
            "epoch: 4100/10000, time: 14.98s , d_loss: 0.70, d_acc: 0.50, g_loss: 0.71\n",
            "epoch: 4200/10000, time: 15.76s , d_loss: 0.68, d_acc: 0.59, g_loss: 0.75\n",
            "epoch: 4300/10000, time: 14.93s , d_loss: 0.65, d_acc: 0.69, g_loss: 0.76\n",
            "epoch: 4400/10000, time: 15.06s , d_loss: 0.70, d_acc: 0.52, g_loss: 0.68\n",
            "epoch: 4500/10000, time: 14.92s , d_loss: 0.67, d_acc: 0.60, g_loss: 0.78\n",
            "epoch: 4600/10000, time: 14.96s , d_loss: 0.70, d_acc: 0.55, g_loss: 0.71\n",
            "epoch: 4700/10000, time: 14.97s , d_loss: 0.69, d_acc: 0.57, g_loss: 0.73\n",
            "epoch: 4800/10000, time: 15.03s , d_loss: 0.67, d_acc: 0.61, g_loss: 0.79\n",
            "epoch: 4900/10000, time: 15.03s , d_loss: 0.67, d_acc: 0.59, g_loss: 0.77\n",
            "epoch: 5000/10000, time: 14.84s , d_loss: 0.70, d_acc: 0.50, g_loss: 0.71\n",
            "epoch: 5100/10000, time: 15.00s , d_loss: 0.68, d_acc: 0.59, g_loss: 0.76\n",
            "epoch: 5200/10000, time: 14.97s , d_loss: 0.67, d_acc: 0.61, g_loss: 0.77\n",
            "epoch: 5300/10000, time: 15.96s , d_loss: 0.69, d_acc: 0.52, g_loss: 0.72\n",
            "epoch: 5400/10000, time: 14.97s , d_loss: 0.70, d_acc: 0.53, g_loss: 0.71\n",
            "epoch: 5500/10000, time: 14.98s , d_loss: 0.69, d_acc: 0.52, g_loss: 0.71\n",
            "epoch: 5600/10000, time: 14.99s , d_loss: 0.71, d_acc: 0.48, g_loss: 0.71\n",
            "epoch: 5700/10000, time: 15.01s , d_loss: 0.70, d_acc: 0.50, g_loss: 0.71\n",
            "epoch: 5800/10000, time: 14.99s , d_loss: 0.66, d_acc: 0.64, g_loss: 0.79\n",
            "epoch: 5900/10000, time: 14.94s , d_loss: 0.68, d_acc: 0.57, g_loss: 0.73\n",
            "epoch: 6000/10000, time: 14.89s , d_loss: 0.68, d_acc: 0.61, g_loss: 0.75\n",
            "epoch: 6100/10000, time: 14.88s , d_loss: 0.69, d_acc: 0.52, g_loss: 0.71\n",
            "epoch: 6200/10000, time: 14.84s , d_loss: 0.66, d_acc: 0.63, g_loss: 0.78\n",
            "epoch: 6300/10000, time: 14.84s , d_loss: 0.68, d_acc: 0.58, g_loss: 0.77\n",
            "epoch: 6400/10000, time: 14.88s , d_loss: 0.71, d_acc: 0.46, g_loss: 0.70\n",
            "epoch: 6500/10000, time: 14.86s , d_loss: 0.68, d_acc: 0.61, g_loss: 0.76\n",
            "epoch: 6600/10000, time: 16.10s , d_loss: 0.69, d_acc: 0.55, g_loss: 0.67\n",
            "epoch: 6700/10000, time: 14.89s , d_loss: 0.67, d_acc: 0.62, g_loss: 0.81\n",
            "epoch: 6800/10000, time: 14.89s , d_loss: 0.69, d_acc: 0.53, g_loss: 0.72\n",
            "epoch: 6900/10000, time: 14.97s , d_loss: 0.67, d_acc: 0.59, g_loss: 0.79\n",
            "epoch: 7000/10000, time: 14.92s , d_loss: 0.70, d_acc: 0.51, g_loss: 0.69\n",
            "epoch: 7100/10000, time: 14.92s , d_loss: 0.68, d_acc: 0.55, g_loss: 0.76\n",
            "epoch: 7200/10000, time: 15.04s , d_loss: 0.70, d_acc: 0.51, g_loss: 0.73\n",
            "epoch: 7300/10000, time: 14.86s , d_loss: 0.71, d_acc: 0.47, g_loss: 0.73\n",
            "epoch: 7400/10000, time: 14.95s , d_loss: 0.67, d_acc: 0.61, g_loss: 0.78\n",
            "epoch: 7500/10000, time: 14.77s , d_loss: 0.70, d_acc: 0.52, g_loss: 0.72\n",
            "epoch: 7600/10000, time: 14.80s , d_loss: 0.69, d_acc: 0.52, g_loss: 0.75\n",
            "epoch: 7700/10000, time: 14.88s , d_loss: 0.68, d_acc: 0.54, g_loss: 0.76\n",
            "epoch: 7800/10000, time: 14.87s , d_loss: 0.68, d_acc: 0.54, g_loss: 0.76\n",
            "epoch: 7900/10000, time: 14.93s , d_loss: 0.69, d_acc: 0.55, g_loss: 0.75\n",
            "epoch: 8000/10000, time: 14.87s , d_loss: 0.66, d_acc: 0.64, g_loss: 0.82\n",
            "epoch: 8100/10000, time: 14.88s , d_loss: 0.68, d_acc: 0.54, g_loss: 0.76\n",
            "epoch: 8200/10000, time: 16.38s , d_loss: 0.68, d_acc: 0.56, g_loss: 0.75\n",
            "epoch: 8300/10000, time: 14.95s , d_loss: 0.68, d_acc: 0.58, g_loss: 0.75\n",
            "epoch: 8400/10000, time: 14.91s , d_loss: 0.68, d_acc: 0.56, g_loss: 0.74\n",
            "epoch: 8500/10000, time: 14.98s , d_loss: 0.68, d_acc: 0.56, g_loss: 0.78\n",
            "epoch: 8600/10000, time: 14.89s , d_loss: 0.69, d_acc: 0.53, g_loss: 0.75\n",
            "epoch: 8700/10000, time: 14.88s , d_loss: 0.70, d_acc: 0.53, g_loss: 0.75\n",
            "epoch: 8800/10000, time: 14.75s , d_loss: 0.69, d_acc: 0.53, g_loss: 0.79\n",
            "epoch: 8900/10000, time: 14.99s , d_loss: 0.67, d_acc: 0.59, g_loss: 0.79\n",
            "epoch: 9000/10000, time: 15.05s , d_loss: 0.71, d_acc: 0.47, g_loss: 0.73\n",
            "epoch: 9100/10000, time: 14.95s , d_loss: 0.67, d_acc: 0.56, g_loss: 0.76\n",
            "epoch: 9200/10000, time: 14.91s , d_loss: 0.69, d_acc: 0.52, g_loss: 0.75\n",
            "epoch: 9300/10000, time: 14.93s , d_loss: 0.69, d_acc: 0.54, g_loss: 0.75\n",
            "epoch: 9400/10000, time: 14.93s , d_loss: 0.67, d_acc: 0.58, g_loss: 0.73\n",
            "epoch: 9500/10000, time: 14.99s , d_loss: 0.69, d_acc: 0.54, g_loss: 0.74\n",
            "epoch: 9600/10000, time: 14.99s , d_loss: 0.68, d_acc: 0.55, g_loss: 0.75\n",
            "epoch: 9700/10000, time: 14.91s , d_loss: 0.68, d_acc: 0.57, g_loss: 0.75\n",
            "epoch: 9800/10000, time: 14.88s , d_loss: 0.68, d_acc: 0.56, g_loss: 0.77\n",
            "epoch: 9900/10000, time: 14.93s , d_loss: 0.69, d_acc: 0.55, g_loss: 0.73\n",
            "epoch: 10000/10000, time: 14.81s , d_loss: 0.68, d_acc: 0.56, g_loss: 0.74\n"
          ],
          "name": "stdout"
        }
      ]
    },
    {
      "cell_type": "code",
      "metadata": {
        "colab": {
          "base_uri": "https://localhost:8080/",
          "height": 282
        },
        "id": "5Rhpch39O_fv",
        "outputId": "d80cf281-0547-466d-b20e-14846acf06ba"
      },
      "source": [
        "plt.plot(g_losses, label='g_losses')\n",
        "plt.plot(d_losses, label='d_losses')\n",
        "plt.legend()"
      ],
      "execution_count": 19,
      "outputs": [
        {
          "output_type": "execute_result",
          "data": {
            "text/plain": [
              "<matplotlib.legend.Legend at 0x7f62da07a828>"
            ]
          },
          "metadata": {
            "tags": []
          },
          "execution_count": 19
        },
        {
          "output_type": "display_data",
          "data": {
            "image/png": "[encoded data removed]",
            "text/plain": [
              "<Figure size 432x288 with 1 Axes>"
            ]
          },
          "metadata": {
            "tags": [],
            "needs_background": "light"
          }
        }
      ]
    },
    {
      "cell_type": "code",
      "metadata": {
        "colab": {
          "base_uri": "https://localhost:8080/",
          "height": 282
        },
        "id": "47Y-NsYRs_bw",
        "outputId": "4e2f7243-b3ec-48e8-a12a-e5ab7c976a94"
      },
      "source": [
        "noise = tf.random.normal([1,LATENT_DIM])# create noise input \n",
        "imgs = g.predict(noise)\n",
        "out = d.predict(imgs)\n",
        "# # Rescale images 0 - 1\n",
        "imgs = 0.5 * imgs + 0.5\n",
        "\n",
        "plt.imshow(imgs[0].reshape(w, h),cmap='gray')\n"
      ],
      "execution_count": 20,
      "outputs": [
        {
          "output_type": "execute_result",
          "data": {
            "text/plain": [
              "<matplotlib.image.AxesImage at 0x7f62d974e668>"
            ]
          },
          "metadata": {
            "tags": []
          },
          "execution_count": 20
        },
        {
          "output_type": "display_data",
          "data": {
            "image/png": "[encoded data removed]",
            "text/plain": [
              "<Figure size 432x288 with 1 Axes>"
            ]
          },
          "metadata": {
            "tags": [],
            "needs_background": "light"
          }
        }
      ]
    },
    {
      "cell_type": "code",
      "metadata": {
        "colab": {
          "base_uri": "https://localhost:8080/"
        },
        "id": "TsEklj7ZoXme",
        "outputId": "9e47f956-24b1-4ab8-879c-6d15a4d320a7"
      },
      "source": [
        "### try to reload trained weights and continue training\n",
        "checkpoint_dir = './training_checkpoints'\n",
        "checkpoint_prefix = os.path.join(checkpoint_dir, \"ckpt\")\n",
        "dis2 = discriminator(IMAGE_SHAPE)\n",
        "dis2.load_weights(os.path.join(checkpoint_prefix, f'dis_epoch_{EPHOCHS * old_train_cycle}'))\n",
        "gen2 = generator(LATENT_DIM)\n",
        "gen2.load_weights(os.path.join(checkpoint_prefix, f'gen_epoch_{EPHOCHS * old_train_cycle}'))\n",
        "combined2 , dis2, gen2 = gan(dis2, gen2)\n",
        "combined2.load_weights(os.path.join(checkpoint_prefix, f'combined_epoch_{EPHOCHS * old_train_cycle}'))\n"
      ],
      "execution_count": 35,
      "outputs": [
        {
          "output_type": "execute_result",
          "data": {
            "text/plain": [
              "<tensorflow.python.training.tracking.util.CheckpointLoadStatus at 0x7f62d6024908>"
            ]
          },
          "metadata": {
            "tags": []
          },
          "execution_count": 35
        }
      ]
    },
    {
      "cell_type": "code",
      "metadata": {
        "colab": {
          "base_uri": "https://localhost:8080/"
        },
        "id": "rz3tgS9vrrld",
        "outputId": "249f411d-b2fc-4962-e70a-d8194a984de2"
      },
      "source": [
        "g_losses, d_losses, c, d, g = train(combined2, dis2, gen2, BATCH_SIZE, EPHOCHS, CHECKPOINT, LATENT_DIM, train_cycle=old_train_cycle+1)\n",
        "old_train_cycle += 1 "
      ],
      "execution_count": 36,
      "outputs": [
        {
          "output_type": "stream",
          "text": [
            "Training will coninue from epoch 20000 and will finish at epoch. 30000\n",
            "epoch: 20000/30000, time: 1.88s , d_loss: 0.69, d_acc: 0.52, g_loss: 0.72\n",
            "epoch: 20100/30000, time: 14.92s , d_loss: 0.69, d_acc: 0.51, g_loss: 0.71\n",
            "epoch: 20200/30000, time: 14.94s , d_loss: 0.69, d_acc: 0.48, g_loss: 0.71\n",
            "epoch: 20300/30000, time: 14.86s , d_loss: 0.70, d_acc: 0.44, g_loss: 0.71\n",
            "epoch: 20400/30000, time: 14.83s , d_loss: 0.69, d_acc: 0.51, g_loss: 0.70\n",
            "epoch: 20500/30000, time: 14.93s , d_loss: 0.70, d_acc: 0.52, g_loss: 0.70\n",
            "epoch: 20600/30000, time: 19.08s , d_loss: 0.69, d_acc: 0.54, g_loss: 0.70\n",
            "epoch: 20700/30000, time: 15.01s , d_loss: 0.70, d_acc: 0.50, g_loss: 0.70\n",
            "epoch: 20800/30000, time: 15.03s , d_loss: 0.70, d_acc: 0.48, g_loss: 0.70\n",
            "epoch: 20900/30000, time: 15.25s , d_loss: 0.70, d_acc: 0.49, g_loss: 0.71\n",
            "epoch: 21000/30000, time: 15.09s , d_loss: 0.70, d_acc: 0.51, g_loss: 0.70\n",
            "epoch: 21100/30000, time: 15.07s , d_loss: 0.69, d_acc: 0.53, g_loss: 0.71\n",
            "epoch: 21200/30000, time: 14.96s , d_loss: 0.69, d_acc: 0.50, g_loss: 0.70\n",
            "epoch: 21300/30000, time: 15.27s , d_loss: 0.69, d_acc: 0.52, g_loss: 0.70\n",
            "epoch: 21400/30000, time: 15.00s , d_loss: 0.69, d_acc: 0.52, g_loss: 0.69\n",
            "epoch: 21500/30000, time: 14.94s , d_loss: 0.69, d_acc: 0.56, g_loss: 0.70\n",
            "epoch: 21600/30000, time: 14.78s , d_loss: 0.69, d_acc: 0.51, g_loss: 0.70\n",
            "epoch: 21700/30000, time: 15.04s , d_loss: 0.69, d_acc: 0.53, g_loss: 0.70\n",
            "epoch: 21800/30000, time: 15.40s , d_loss: 0.70, d_acc: 0.48, g_loss: 0.70\n",
            "epoch: 21900/30000, time: 14.97s , d_loss: 0.69, d_acc: 0.47, g_loss: 0.71\n",
            "epoch: 22000/30000, time: 14.98s , d_loss: 0.69, d_acc: 0.49, g_loss: 0.70\n",
            "epoch: 22100/30000, time: 14.92s , d_loss: 0.69, d_acc: 0.52, g_loss: 0.70\n",
            "epoch: 22200/30000, time: 15.05s , d_loss: 0.69, d_acc: 0.52, g_loss: 0.69\n",
            "epoch: 22300/30000, time: 14.94s , d_loss: 0.69, d_acc: 0.51, g_loss: 0.71\n",
            "epoch: 22400/30000, time: 15.58s , d_loss: 0.69, d_acc: 0.53, g_loss: 0.71\n",
            "epoch: 22500/30000, time: 15.01s , d_loss: 0.69, d_acc: 0.50, g_loss: 0.71\n",
            "epoch: 22600/30000, time: 15.00s , d_loss: 0.69, d_acc: 0.52, g_loss: 0.71\n",
            "epoch: 22700/30000, time: 14.97s , d_loss: 0.69, d_acc: 0.48, g_loss: 0.70\n",
            "epoch: 22800/30000, time: 14.96s , d_loss: 0.70, d_acc: 0.52, g_loss: 0.70\n",
            "epoch: 22900/30000, time: 14.94s , d_loss: 0.70, d_acc: 0.48, g_loss: 0.71\n",
            "epoch: 23000/30000, time: 15.05s , d_loss: 0.69, d_acc: 0.54, g_loss: 0.71\n",
            "epoch: 23100/30000, time: 15.05s , d_loss: 0.69, d_acc: 0.52, g_loss: 0.70\n",
            "epoch: 23200/30000, time: 15.77s , d_loss: 0.69, d_acc: 0.55, g_loss: 0.71\n",
            "epoch: 23300/30000, time: 15.00s , d_loss: 0.69, d_acc: 0.55, g_loss: 0.70\n",
            "epoch: 23400/30000, time: 14.97s , d_loss: 0.68, d_acc: 0.58, g_loss: 0.71\n",
            "epoch: 23500/30000, time: 14.97s , d_loss: 0.69, d_acc: 0.52, g_loss: 0.70\n",
            "epoch: 23600/30000, time: 14.93s , d_loss: 0.69, d_acc: 0.48, g_loss: 0.69\n",
            "epoch: 23700/30000, time: 14.93s , d_loss: 0.70, d_acc: 0.48, g_loss: 0.70\n",
            "epoch: 23800/30000, time: 14.96s , d_loss: 0.70, d_acc: 0.47, g_loss: 0.70\n",
            "epoch: 23900/30000, time: 15.00s , d_loss: 0.69, d_acc: 0.54, g_loss: 0.70\n",
            "epoch: 24000/30000, time: 14.92s , d_loss: 0.69, d_acc: 0.55, g_loss: 0.70\n",
            "epoch: 24100/30000, time: 15.57s , d_loss: 0.69, d_acc: 0.51, g_loss: 0.70\n",
            "epoch: 24200/30000, time: 14.75s , d_loss: 0.70, d_acc: 0.46, g_loss: 0.70\n",
            "epoch: 24300/30000, time: 14.95s , d_loss: 0.69, d_acc: 0.51, g_loss: 0.69\n",
            "epoch: 24400/30000, time: 14.99s , d_loss: 0.69, d_acc: 0.45, g_loss: 0.70\n",
            "epoch: 24500/30000, time: 14.97s , d_loss: 0.69, d_acc: 0.51, g_loss: 0.70\n",
            "epoch: 24600/30000, time: 14.91s , d_loss: 0.69, d_acc: 0.55, g_loss: 0.70\n",
            "epoch: 24700/30000, time: 14.93s , d_loss: 0.70, d_acc: 0.46, g_loss: 0.70\n",
            "epoch: 24800/30000, time: 15.05s , d_loss: 0.69, d_acc: 0.57, g_loss: 0.70\n",
            "epoch: 24900/30000, time: 15.00s , d_loss: 0.69, d_acc: 0.55, g_loss: 0.70\n",
            "epoch: 25000/30000, time: 15.01s , d_loss: 0.69, d_acc: 0.53, g_loss: 0.71\n",
            "epoch: 25100/30000, time: 14.91s , d_loss: 0.70, d_acc: 0.47, g_loss: 0.70\n",
            "epoch: 25200/30000, time: 16.21s , d_loss: 0.70, d_acc: 0.45, g_loss: 0.71\n",
            "epoch: 25300/30000, time: 14.95s , d_loss: 0.69, d_acc: 0.53, g_loss: 0.70\n",
            "epoch: 25400/30000, time: 14.95s , d_loss: 0.69, d_acc: 0.54, g_loss: 0.70\n",
            "epoch: 25500/30000, time: 14.84s , d_loss: 0.69, d_acc: 0.49, g_loss: 0.70\n",
            "epoch: 25600/30000, time: 14.91s , d_loss: 0.70, d_acc: 0.45, g_loss: 0.71\n",
            "epoch: 25700/30000, time: 14.95s , d_loss: 0.69, d_acc: 0.49, g_loss: 0.71\n",
            "epoch: 25800/30000, time: 14.93s , d_loss: 0.70, d_acc: 0.46, g_loss: 0.70\n",
            "epoch: 25900/30000, time: 15.00s , d_loss: 0.70, d_acc: 0.49, g_loss: 0.70\n",
            "epoch: 26000/30000, time: 14.95s , d_loss: 0.69, d_acc: 0.52, g_loss: 0.69\n",
            "epoch: 26100/30000, time: 14.99s , d_loss: 0.69, d_acc: 0.49, g_loss: 0.69\n",
            "epoch: 26200/30000, time: 14.93s , d_loss: 0.70, d_acc: 0.48, g_loss: 0.70\n",
            "epoch: 26300/30000, time: 14.92s , d_loss: 0.70, d_acc: 0.45, g_loss: 0.70\n",
            "epoch: 26400/30000, time: 14.94s , d_loss: 0.69, d_acc: 0.47, g_loss: 0.70\n",
            "epoch: 26500/30000, time: 14.87s , d_loss: 0.70, d_acc: 0.44, g_loss: 0.70\n",
            "epoch: 26600/30000, time: 16.24s , d_loss: 0.69, d_acc: 0.50, g_loss: 0.70\n",
            "epoch: 26700/30000, time: 14.95s , d_loss: 0.69, d_acc: 0.52, g_loss: 0.70\n",
            "epoch: 26800/30000, time: 14.86s , d_loss: 0.69, d_acc: 0.52, g_loss: 0.70\n",
            "epoch: 26900/30000, time: 14.97s , d_loss: 0.69, d_acc: 0.49, g_loss: 0.70\n",
            "epoch: 27000/30000, time: 15.02s , d_loss: 0.69, d_acc: 0.52, g_loss: 0.71\n",
            "epoch: 27100/30000, time: 14.95s , d_loss: 0.69, d_acc: 0.45, g_loss: 0.70\n",
            "epoch: 27200/30000, time: 15.02s , d_loss: 0.69, d_acc: 0.51, g_loss: 0.70\n",
            "epoch: 27300/30000, time: 15.03s , d_loss: 0.69, d_acc: 0.56, g_loss: 0.70\n",
            "epoch: 27400/30000, time: 14.90s , d_loss: 0.69, d_acc: 0.50, g_loss: 0.70\n",
            "epoch: 27500/30000, time: 14.92s , d_loss: 0.70, d_acc: 0.46, g_loss: 0.70\n",
            "epoch: 27600/30000, time: 15.01s , d_loss: 0.70, d_acc: 0.43, g_loss: 0.70\n",
            "epoch: 27700/30000, time: 14.95s , d_loss: 0.69, d_acc: 0.50, g_loss: 0.71\n",
            "epoch: 27800/30000, time: 14.94s , d_loss: 0.69, d_acc: 0.51, g_loss: 0.70\n",
            "epoch: 27900/30000, time: 14.94s , d_loss: 0.69, d_acc: 0.57, g_loss: 0.71\n",
            "epoch: 28000/30000, time: 14.91s , d_loss: 0.69, d_acc: 0.51, g_loss: 0.69\n",
            "epoch: 28100/30000, time: 14.85s , d_loss: 0.69, d_acc: 0.51, g_loss: 0.70\n",
            "epoch: 28200/30000, time: 14.97s , d_loss: 0.69, d_acc: 0.51, g_loss: 0.70\n",
            "epoch: 28300/30000, time: 16.67s , d_loss: 0.70, d_acc: 0.53, g_loss: 0.71\n",
            "epoch: 28400/30000, time: 14.96s , d_loss: 0.69, d_acc: 0.49, g_loss: 0.70\n",
            "epoch: 28500/30000, time: 14.91s , d_loss: 0.70, d_acc: 0.50, g_loss: 0.70\n",
            "epoch: 28600/30000, time: 14.95s , d_loss: 0.69, d_acc: 0.50, g_loss: 0.70\n",
            "epoch: 28700/30000, time: 14.99s , d_loss: 0.69, d_acc: 0.56, g_loss: 0.69\n",
            "epoch: 28800/30000, time: 15.01s , d_loss: 0.70, d_acc: 0.44, g_loss: 0.70\n",
            "epoch: 28900/30000, time: 14.96s , d_loss: 0.70, d_acc: 0.46, g_loss: 0.70\n",
            "epoch: 29000/30000, time: 14.95s , d_loss: 0.70, d_acc: 0.44, g_loss: 0.70\n",
            "epoch: 29100/30000, time: 14.91s , d_loss: 0.70, d_acc: 0.43, g_loss: 0.70\n",
            "epoch: 29200/30000, time: 14.93s , d_loss: 0.70, d_acc: 0.48, g_loss: 0.70\n",
            "epoch: 29300/30000, time: 14.85s , d_loss: 0.69, d_acc: 0.48, g_loss: 0.70\n",
            "epoch: 29400/30000, time: 15.05s , d_loss: 0.70, d_acc: 0.50, g_loss: 0.70\n",
            "epoch: 29500/30000, time: 14.86s , d_loss: 0.70, d_acc: 0.49, g_loss: 0.69\n",
            "epoch: 29600/30000, time: 14.99s , d_loss: 0.70, d_acc: 0.48, g_loss: 0.70\n",
            "epoch: 29700/30000, time: 14.87s , d_loss: 0.69, d_acc: 0.50, g_loss: 0.69\n",
            "epoch: 29800/30000, time: 15.03s , d_loss: 0.70, d_acc: 0.48, g_loss: 0.70\n",
            "epoch: 29900/30000, time: 14.94s , d_loss: 0.70, d_acc: 0.46, g_loss: 0.70\n",
            "epoch: 30000/30000, time: 14.95s , d_loss: 0.70, d_acc: 0.46, g_loss: 0.70\n"
          ],
          "name": "stdout"
        }
      ]
    },
    {
      "cell_type": "code",
      "metadata": {
        "colab": {
          "base_uri": "https://localhost:8080/",
          "height": 282
        },
        "id": "JUJ9WaYDoq2U",
        "outputId": "a32314e0-20b8-49b7-bece-eddf254b5bb6"
      },
      "source": [
        "plt.plot(g_losses, label='g_losses')\n",
        "plt.plot(d_losses, label='d_losses')\n",
        "plt.legend()"
      ],
      "execution_count": 37,
      "outputs": [
        {
          "output_type": "execute_result",
          "data": {
            "text/plain": [
              "<matplotlib.legend.Legend at 0x7f62dd2eff28>"
            ]
          },
          "metadata": {
            "tags": []
          },
          "execution_count": 37
        },
        {
          "output_type": "display_data",
          "data": {
            "image/png": "[encoded data removed]",
            "text/plain": [
              "<Figure size 432x288 with 1 Axes>"
            ]
          },
          "metadata": {
            "tags": [],
            "needs_background": "light"
          }
        }
      ]
    },
    {
      "cell_type": "code",
      "metadata": {
        "colab": {
          "base_uri": "https://localhost:8080/",
          "height": 282
        },
        "id": "7iSQNJeMoyom",
        "outputId": "4f442ddb-136e-430c-ce84-8048cdd000aa"
      },
      "source": [
        "noise = tf.random.normal([1,LATENT_DIM])# create noise input \n",
        "imgs = g.predict(noise)\n",
        "out = d.predict(imgs)\n",
        "# # Rescale images 0 - 1\n",
        "imgs = 0.5 * imgs + 0.5\n",
        "\n",
        "plt.imshow(imgs[0].reshape(w, h),cmap='gray')\n"
      ],
      "execution_count": 38,
      "outputs": [
        {
          "output_type": "execute_result",
          "data": {
            "text/plain": [
              "<matplotlib.image.AxesImage at 0x7f62dd0b0cf8>"
            ]
          },
          "metadata": {
            "tags": []
          },
          "execution_count": 38
        },
        {
          "output_type": "display_data",
          "data": {
            "image/png": "[encoded data removed]",
            "text/plain": [
              "<Figure size 432x288 with 1 Axes>"
            ]
          },
          "metadata": {
            "tags": [],
            "needs_background": "light"
          }
        }
      ]
    },
    {
      "cell_type": "code",
      "metadata": {
        "id": "FUQlmOsHUl2e",
        "colab": {
          "base_uri": "https://localhost:8080/",
          "height": 282
        },
        "outputId": "bdc61fbc-baa4-4de9-f18a-c24b9085347e"
      },
      "source": [
        " # try loading train generator \n",
        "checkpoint_dir = './training_checkpoints'\n",
        "checkpoint_prefix = os.path.join(checkpoint_dir, \"ckpt\")\n",
        "gen3 = None\n",
        "gen3 = generator(LATENT_DIM)\n",
        "gen3.load_weights(os.path.join(checkpoint_prefix, f'gen_epoch_{(old_train_cycle)* EPHOCHS}'))\n",
        "noise = tf.random.normal([1,LATENT_DIM])# create noise input \n",
        "imgs = gen2.predict(noise)\n",
        "# # Rescale images 0 - 1\n",
        "imgs = 0.5 * imgs + 0.5\n",
        "plt.imshow(imgs[0].reshape(w, h),cmap='gray')\n"
      ],
      "execution_count": 49,
      "outputs": [
        {
          "output_type": "execute_result",
          "data": {
            "text/plain": [
              "<matplotlib.image.AxesImage at 0x7f62dc91def0>"
            ]
          },
          "metadata": {
            "tags": []
          },
          "execution_count": 49
        },
        {
          "output_type": "display_data",
          "data": {
            "image/png": "[encoded data removed]",
            "text/plain": [
              "<Figure size 432x288 with 1 Axes>"
            ]
          },
          "metadata": {
            "tags": [],
            "needs_background": "light"
          }
        }
      ]
    },
    {
      "cell_type": "code",
      "metadata": {
        "id": "AnvKrdfLlVvd"
      },
      "source": [
        ""
      ],
      "execution_count": 47,
      "outputs": []
    },
    {
      "cell_type": "code",
      "metadata": {
        "colab": {
          "base_uri": "https://localhost:8080/",
          "height": 286
        },
        "id": "JH2JtWtR3UZq",
        "outputId": "43181d94-27fa-4f87-a04e-6548d1b5fae4"
      },
      "source": [
        "def display_image(epoch_no):\n",
        "  return PIL.Image.open(f'gan_images/{epoch_no}.png')\n",
        "img = display_image(30000)\n",
        "img = np.array(img)\n",
        "\n",
        "plt.imshow(img, interpolation='nearest', aspect='auto')"
      ],
      "execution_count": 40,
      "outputs": [
        {
          "output_type": "execute_result",
          "data": {
            "text/plain": [
              "<matplotlib.image.AxesImage at 0x7f62dd033160>"
            ]
          },
          "metadata": {
            "tags": []
          },
          "execution_count": 40
        },
        {
          "output_type": "display_data",
          "data": {
            "image/png": "[encoded data removed]",
            "text/plain": [
              "<Figure size 432x288 with 1 Axes>"
            ]
          },
          "metadata": {
            "tags": [],
            "needs_background": "light"
          }
        }
      ]
    },
    {
      "cell_type": "code",
      "metadata": {
        "id": "ibXR1pCyUkqr"
      },
      "source": [
        "anim_file = 'dcgan.gif'\n",
        "with imageio.get_writer(anim_file, mode='I') as writer:\n",
        "  filenames = glob.glob('gan_images/*.png')\n",
        "  filenames = sorted(filenames)\n",
        "  for filename in filenames:\n",
        "    image = imageio.imread(filename)\n",
        "    writer.append_data(image)\n",
        "  image = imageio.imread(filename)\n",
        "  writer.append_data(image)"
      ],
      "execution_count": 41,
      "outputs": []
    },
    {
      "cell_type": "code",
      "metadata": {
        "id": "xBcR0jeLUlsc"
      },
      "source": [
        "import tensorflow_docs.vis.embed as embed\n",
        "embed.embed_file(anim_file)"
      ],
      "execution_count": 50,
      "outputs": []
    },
    {
      "cell_type": "code",
      "metadata": {
        "id": "o8Y-JEZvdacY"
      },
      "source": [
        ""
      ],
      "execution_count": null,
      "outputs": []
    }
  ]
}