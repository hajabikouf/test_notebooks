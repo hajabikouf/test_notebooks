{
  "nbformat": 4,
  "nbformat_minor": 0,
  "metadata": {
    "colab": {
      "name": "CIFAR-classification",
      "provenance": [],
      "collapsed_sections": [],
      "authorship_tag": "ABX9TyMYfGKS1DQT+9cn7HvORi2s",
      "include_colab_link": true
    },
    "kernelspec": {
      "display_name": "Python 3",
      "name": "python3"
    },
    "accelerator": "GPU"
  },
  "cells": [
    {
      "cell_type": "markdown",
      "metadata": {
        "id": "view-in-github",
        "colab_type": "text"
      },
      "source": [
        "<a href=\"https://colab.research.google.com/github/hajabikouf/test_notebooks/blob/main/CIFAR_classification.ipynb\" target=\"_parent\"><img src=\"https://colab.research.google.com/assets/colab-badge.svg\" alt=\"Open In Colab\"/></a>"
      ]
    },
    {
      "cell_type": "markdown",
      "metadata": {
        "id": "0w0VBKvu0fhe"
      },
      "source": [
        "# imports"
      ]
    },
    {
      "cell_type": "code",
      "metadata": {
        "id": "-dM_Cv9BxUlp"
      },
      "source": [
        "import tensorflow as tf\n",
        "from tensorflow.keras.layers import Input, Conv2D, Dense, Flatten, Dropout, GlobalMaxPooling2D, MaxPooling2D, GlobalAveragePooling2D, BatchNormalization\n",
        "from tensorflow.keras.models import Model\n",
        "from tensorflow.keras import datasets as ds\n",
        "import matplotlib.pyplot as plt\n",
        "import numpy as np\n",
        "import matplotlib.pyplot as plt\n"
      ],
      "execution_count": 1,
      "outputs": []
    },
    {
      "cell_type": "code",
      "metadata": {
        "colab": {
          "base_uri": "https://localhost:8080/"
        },
        "id": "FqD29rt_xXIB",
        "outputId": "f0197b9d-b02a-431d-b0fb-0e84bbd73897"
      },
      "source": [
        "# choose between mnist or fasion mnist or CIFAR\n",
        "# Note training using CNN on mnist takes longer but gives better results than the mnist ANN notebook check github\n",
        "# data = ds.mnist.load_data()\n",
        "# data = ds.fashion_mnist.load_data()\n",
        "data = tf.keras.datasets.cifar10.load_data()\n",
        "(x_train, y_train), (x_test, y_test) = data\n",
        "y_train, y_test = y_train.flatten(), y_test.flatten()\n",
        "# normalize images\n",
        "x_train, x_test = x_train / 255.0, x_test / 255.0\n",
        "print(\"x_train.shape:\", x_train.shape)"
      ],
      "execution_count": 2,
      "outputs": [
        {
          "output_type": "stream",
          "text": [
            "Downloading data from https://www.cs.toronto.edu/~kriz/cifar-10-python.tar.gz\n",
            "170500096/170498071 [==============================] - 2s 0us/step\n",
            "x_train.shape: (50000, 32, 32, 3)\n"
          ],
          "name": "stdout"
        }
      ]
    },
    {
      "cell_type": "code",
      "metadata": {
        "id": "LvmtYetQxXNP"
      },
      "source": [
        "# only run this when he have grey scale images to give them a channel dimension\n",
        "# the data is only 2D!\n",
        "# convolution expects height x width x color\n",
        "\n",
        "# x_train = np.expand_dims(x_train, -1)\n",
        "# x_test = np.expand_dims(x_test, -1)\n",
        "# print(x_train.shape)"
      ],
      "execution_count": 3,
      "outputs": []
    },
    {
      "cell_type": "code",
      "metadata": {
        "colab": {
          "base_uri": "https://localhost:8080/"
        },
        "id": "QtsxzMZgxXRy",
        "outputId": "2cef6076-540a-47db-e1a5-a16c337fae09"
      },
      "source": [
        "# number of classes\n",
        "K = len(set(y_train))\n",
        "print(\"number of classes:\", K)"
      ],
      "execution_count": 4,
      "outputs": [
        {
          "output_type": "stream",
          "text": [
            "number of classes: 10\n"
          ],
          "name": "stdout"
        }
      ]
    },
    {
      "cell_type": "markdown",
      "metadata": {
        "id": "8mbubsFTl5MS"
      },
      "source": [
        "# This paper shows that we can replace conv-pooling with strided conv with out a loss in accuracy  \n",
        "###. https://arxiv.org/pdf/1412.6806.pdf\n",
        "\n",
        "\n",
        "#### note! : using strided conv makes training faster since less features are being learned withouth a neglegable performance decrease/increase.\n",
        "\n"
      ]
    },
    {
      "cell_type": "code",
      "metadata": {
        "colab": {
          "base_uri": "https://localhost:8080/"
        },
        "id": "ZD2rahrExXWo",
        "outputId": "686e2a99-47a1-4a8e-e8b5-7354b4794fdd"
      },
      "source": [
        "tf.keras.backend.clear_session()\n",
        "# Build the model using the functional API\n",
        "i = Input(shape=x_train[0].shape)\n",
        "# x = Conv2D(32, (3, 3), strides=2, activation='relu')(i)\n",
        "# x = Conv2D(64, (3, 3), strides=2, activation='relu')(x)\n",
        "# x = Conv2D(128, (3, 3), strides=2, activation='relu')(x)\n",
        "\n",
        "# x = Conv2D(32, (3, 3), activation='relu', padding='same')(i)\n",
        "# x = BatchNormalization()(x)\n",
        "# x = Conv2D(32, (3, 3), activation='relu', padding='same')(x)\n",
        "# x = BatchNormalization()(x)\n",
        "# x = MaxPooling2D((2, 2))(x)\n",
        "# x = Conv2D(64, (3, 3), activation='relu', padding='same')(x)\n",
        "# x = BatchNormalization()(x)\n",
        "# x = Conv2D(64, (3, 3), activation='relu', padding='same')(x)\n",
        "# x = BatchNormalization()(x)\n",
        "# x = MaxPooling2D((2, 2))(x)\n",
        "# x = Conv2D(128, (3, 3), activation='relu', padding='same')(x)\n",
        "# x = BatchNormalization()(x)\n",
        "# x = Conv2D(128, (3, 3), activation='relu', padding='same')(x)\n",
        "# x = BatchNormalization()(x)\n",
        "# x = MaxPooling2D((2, 2))(x)\n",
        "\n",
        "x = Conv2D(32, (3, 3), activation='relu', padding='same')(i)\n",
        "x = BatchNormalization()(x)\n",
        "x = Conv2D(32, (3, 3), strides=2, activation='relu')(x)\n",
        "\n",
        "x = Conv2D(32, (3, 3), activation='relu', padding='same')(x)\n",
        "x = BatchNormalization()(x)\n",
        "x = Conv2D(64, (3, 3), strides=2, activation='relu')(x)\n",
        "\n",
        "x = Conv2D(32, (3, 3), activation='relu', padding='same')(x)\n",
        "x = BatchNormalization()(x)\n",
        "x = Conv2D(128, (3, 3), strides=2, activation='relu')(x)\n",
        "\n",
        "\n",
        "# x = GlobalAveragePooling2D()(x)\n",
        "x = Flatten()(x)\n",
        "x = Dropout(0.2)(x)\n",
        "x = Dense(1024, activation='relu')(x)\n",
        "x = Dropout(0.2)(x)\n",
        "x = Dense(K, activation='softmax')(x)\n",
        "\n",
        "model = Model(i, x)\n",
        "\n",
        "model.compile(optimizer='adam',\n",
        "              loss='sparse_categorical_crossentropy',\n",
        "              metrics=['accuracy'])\n",
        "print(model.summary())"
      ],
      "execution_count": 5,
      "outputs": [
        {
          "output_type": "stream",
          "text": [
            "Model: \"model\"\n",
            "_________________________________________________________________\n",
            "Layer (type)                 Output Shape              Param #   \n",
            "=================================================================\n",
            "input_1 (InputLayer)         [(None, 32, 32, 3)]       0         \n",
            "_________________________________________________________________\n",
            "conv2d (Conv2D)              (None, 32, 32, 32)        896       \n",
            "_________________________________________________________________\n",
            "batch_normalization (BatchNo (None, 32, 32, 32)        128       \n",
            "_________________________________________________________________\n",
            "conv2d_1 (Conv2D)            (None, 15, 15, 32)        9248      \n",
            "_________________________________________________________________\n",
            "conv2d_2 (Conv2D)            (None, 15, 15, 32)        9248      \n",
            "_________________________________________________________________\n",
            "batch_normalization_1 (Batch (None, 15, 15, 32)        128       \n",
            "_________________________________________________________________\n",
            "conv2d_3 (Conv2D)            (None, 7, 7, 64)          18496     \n",
            "_________________________________________________________________\n",
            "conv2d_4 (Conv2D)            (None, 7, 7, 32)          18464     \n",
            "_________________________________________________________________\n",
            "batch_normalization_2 (Batch (None, 7, 7, 32)          128       \n",
            "_________________________________________________________________\n",
            "conv2d_5 (Conv2D)            (None, 3, 3, 128)         36992     \n",
            "_________________________________________________________________\n",
            "global_average_pooling2d (Gl (None, 128)               0         \n",
            "_________________________________________________________________\n",
            "dropout (Dropout)            (None, 128)               0         \n",
            "_________________________________________________________________\n",
            "dense (Dense)                (None, 1024)              132096    \n",
            "_________________________________________________________________\n",
            "dropout_1 (Dropout)          (None, 1024)              0         \n",
            "_________________________________________________________________\n",
            "dense_1 (Dense)              (None, 10)                10250     \n",
            "=================================================================\n",
            "Total params: 236,074\n",
            "Trainable params: 235,882\n",
            "Non-trainable params: 192\n",
            "_________________________________________________________________\n",
            "None\n"
          ],
          "name": "stdout"
        }
      ]
    },
    {
      "cell_type": "code",
      "metadata": {
        "colab": {
          "base_uri": "https://localhost:8080/"
        },
        "id": "vf3UaieIxXbh",
        "outputId": "00d36b6d-2f00-4107-c3a8-8d9ae81e909a"
      },
      "source": [
        "#  Note: make sure you are using the GPU for this!\n",
        "# here we will also try data augmentation to see results on 50 epochs without data augmentation the resutls were -> 1.0042 - accuracy: 0.7869\n",
        "# with data augminaiton the results were loss: 0.4649 - accuracy: 0.8521 with strided conv instead of pooling\n",
        "datagen = tf.keras.preprocessing.image.ImageDataGenerator(width_shift_range=0.1, height_shift_range=0.1, horizontal_flip=True)\n",
        "datagen.fit(x_train)\n",
        "# fits the model on batches with real-time data augmentation:\n",
        "r = model.fit(datagen.flow(x_train, y_train, batch_size=32),validation_data=(x_test, y_test), steps_per_epoch=len(x_train) / 32, epochs=50)\n",
        "\n",
        "\n",
        "# r = model.fit(x_train, y_train, validation_data=(x_test, y_test), epochs=50)"
      ],
      "execution_count": 6,
      "outputs": [
        {
          "output_type": "stream",
          "text": [
            "Epoch 1/50\n",
            "1562/1562 [==============================] - 58s 33ms/step - loss: 1.6961 - accuracy: 0.3662 - val_loss: 1.1910 - val_accuracy: 0.5612\n",
            "Epoch 2/50\n",
            "1562/1562 [==============================] - 48s 31ms/step - loss: 1.1884 - accuracy: 0.5702 - val_loss: 1.1146 - val_accuracy: 0.6023\n",
            "Epoch 3/50\n",
            "1562/1562 [==============================] - 47s 30ms/step - loss: 1.0352 - accuracy: 0.6320 - val_loss: 1.0819 - val_accuracy: 0.6316\n",
            "Epoch 4/50\n",
            "1562/1562 [==============================] - 49s 31ms/step - loss: 0.9285 - accuracy: 0.6729 - val_loss: 1.1182 - val_accuracy: 0.6370\n",
            "Epoch 5/50\n",
            "1562/1562 [==============================] - 49s 32ms/step - loss: 0.8580 - accuracy: 0.7006 - val_loss: 0.8896 - val_accuracy: 0.6980\n",
            "Epoch 6/50\n",
            "1562/1562 [==============================] - 27s 18ms/step - loss: 0.8045 - accuracy: 0.7195 - val_loss: 0.8683 - val_accuracy: 0.6953\n",
            "Epoch 7/50\n",
            "1562/1562 [==============================] - 34s 22ms/step - loss: 0.7701 - accuracy: 0.7298 - val_loss: 0.8532 - val_accuracy: 0.7097\n",
            "Epoch 8/50\n",
            "1562/1562 [==============================] - 81s 52ms/step - loss: 0.7357 - accuracy: 0.7451 - val_loss: 0.7280 - val_accuracy: 0.7497\n",
            "Epoch 9/50\n",
            "1562/1562 [==============================] - 81s 52ms/step - loss: 0.7228 - accuracy: 0.7494 - val_loss: 0.7573 - val_accuracy: 0.7421\n",
            "Epoch 10/50\n",
            "1562/1562 [==============================] - 76s 49ms/step - loss: 0.6782 - accuracy: 0.7655 - val_loss: 0.7989 - val_accuracy: 0.7283\n",
            "Epoch 11/50\n",
            "1562/1562 [==============================] - 73s 46ms/step - loss: 0.6683 - accuracy: 0.7665 - val_loss: 0.7594 - val_accuracy: 0.7456\n",
            "Epoch 12/50\n",
            "1562/1562 [==============================] - 78s 50ms/step - loss: 0.6641 - accuracy: 0.7671 - val_loss: 0.6784 - val_accuracy: 0.7682\n",
            "Epoch 13/50\n",
            "1562/1562 [==============================] - 74s 48ms/step - loss: 0.6301 - accuracy: 0.7808 - val_loss: 0.7834 - val_accuracy: 0.7445\n",
            "Epoch 14/50\n",
            "1562/1562 [==============================] - 72s 46ms/step - loss: 0.6310 - accuracy: 0.7829 - val_loss: 0.7381 - val_accuracy: 0.7486\n",
            "Epoch 15/50\n",
            "1562/1562 [==============================] - 65s 42ms/step - loss: 0.6119 - accuracy: 0.7852 - val_loss: 0.6051 - val_accuracy: 0.7892\n",
            "Epoch 16/50\n",
            "1562/1562 [==============================] - 63s 40ms/step - loss: 0.6140 - accuracy: 0.7878 - val_loss: 0.5779 - val_accuracy: 0.8028\n",
            "Epoch 17/50\n",
            "1562/1562 [==============================] - 102s 65ms/step - loss: 0.5933 - accuracy: 0.7941 - val_loss: 0.7189 - val_accuracy: 0.7577\n",
            "Epoch 18/50\n",
            "1562/1562 [==============================] - 68s 43ms/step - loss: 0.5817 - accuracy: 0.8000 - val_loss: 0.6398 - val_accuracy: 0.7822\n",
            "Epoch 19/50\n",
            "1562/1562 [==============================] - 103s 66ms/step - loss: 0.5769 - accuracy: 0.7964 - val_loss: 0.6093 - val_accuracy: 0.7953\n",
            "Epoch 20/50\n",
            "1562/1562 [==============================] - 74s 47ms/step - loss: 0.5662 - accuracy: 0.8040 - val_loss: 0.5687 - val_accuracy: 0.8048\n",
            "Epoch 21/50\n",
            "1562/1562 [==============================] - 68s 44ms/step - loss: 0.5565 - accuracy: 0.8077 - val_loss: 0.5833 - val_accuracy: 0.8015\n",
            "Epoch 22/50\n",
            "1562/1562 [==============================] - 70s 45ms/step - loss: 0.5578 - accuracy: 0.8069 - val_loss: 0.6073 - val_accuracy: 0.7920\n",
            "Epoch 23/50\n",
            "1562/1562 [==============================] - 73s 47ms/step - loss: 0.5522 - accuracy: 0.8073 - val_loss: 0.6649 - val_accuracy: 0.7768\n",
            "Epoch 24/50\n",
            "1562/1562 [==============================] - 101s 65ms/step - loss: 0.5450 - accuracy: 0.8133 - val_loss: 0.6046 - val_accuracy: 0.7937\n",
            "Epoch 25/50\n",
            "1562/1562 [==============================] - 81s 52ms/step - loss: 0.5328 - accuracy: 0.8158 - val_loss: 0.5576 - val_accuracy: 0.8103\n",
            "Epoch 26/50\n",
            "1562/1562 [==============================] - 47s 30ms/step - loss: 0.5285 - accuracy: 0.8146 - val_loss: 0.5471 - val_accuracy: 0.8167\n",
            "Epoch 27/50\n",
            "1562/1562 [==============================] - 58s 37ms/step - loss: 0.5241 - accuracy: 0.8182 - val_loss: 0.5580 - val_accuracy: 0.8084\n",
            "Epoch 28/50\n",
            "1562/1562 [==============================] - 39s 25ms/step - loss: 0.5123 - accuracy: 0.8237 - val_loss: 0.6314 - val_accuracy: 0.7959\n",
            "Epoch 29/50\n",
            "1562/1562 [==============================] - 62s 40ms/step - loss: 0.5223 - accuracy: 0.8188 - val_loss: 0.6630 - val_accuracy: 0.7818\n",
            "Epoch 30/50\n",
            "1562/1562 [==============================] - 118s 75ms/step - loss: 0.5015 - accuracy: 0.8260 - val_loss: 0.7178 - val_accuracy: 0.7637\n",
            "Epoch 31/50\n",
            "1562/1562 [==============================] - 76s 48ms/step - loss: 0.5062 - accuracy: 0.8261 - val_loss: 0.5372 - val_accuracy: 0.8158\n",
            "Epoch 32/50\n",
            "1562/1562 [==============================] - 27s 17ms/step - loss: 0.5006 - accuracy: 0.8265 - val_loss: 0.5543 - val_accuracy: 0.8140\n",
            "Epoch 33/50\n",
            "1562/1562 [==============================] - 41s 26ms/step - loss: 0.4887 - accuracy: 0.8303 - val_loss: 0.5737 - val_accuracy: 0.8142\n",
            "Epoch 34/50\n",
            "1562/1562 [==============================] - 39s 25ms/step - loss: 0.4923 - accuracy: 0.8294 - val_loss: 0.5933 - val_accuracy: 0.8019\n",
            "Epoch 35/50\n",
            "1562/1562 [==============================] - 39s 25ms/step - loss: 0.4910 - accuracy: 0.8294 - val_loss: 0.5198 - val_accuracy: 0.8201\n",
            "Epoch 36/50\n",
            "1562/1562 [==============================] - 37s 24ms/step - loss: 0.4893 - accuracy: 0.8340 - val_loss: 0.6384 - val_accuracy: 0.7897\n",
            "Epoch 37/50\n",
            "1562/1562 [==============================] - 38s 25ms/step - loss: 0.4836 - accuracy: 0.8330 - val_loss: 0.5448 - val_accuracy: 0.8191\n",
            "Epoch 38/50\n",
            "1562/1562 [==============================] - 38s 25ms/step - loss: 0.4767 - accuracy: 0.8344 - val_loss: 0.6288 - val_accuracy: 0.7935\n",
            "Epoch 39/50\n",
            "1562/1562 [==============================] - 41s 26ms/step - loss: 0.4797 - accuracy: 0.8324 - val_loss: 0.6310 - val_accuracy: 0.7938\n",
            "Epoch 40/50\n",
            "1562/1562 [==============================] - 52s 33ms/step - loss: 0.4742 - accuracy: 0.8355 - val_loss: 0.5156 - val_accuracy: 0.8277\n",
            "Epoch 41/50\n",
            "1562/1562 [==============================] - 36s 23ms/step - loss: 0.4630 - accuracy: 0.8419 - val_loss: 0.5569 - val_accuracy: 0.8145\n",
            "Epoch 42/50\n",
            "1562/1562 [==============================] - 36s 23ms/step - loss: 0.4768 - accuracy: 0.8341 - val_loss: 0.4907 - val_accuracy: 0.8346\n",
            "Epoch 43/50\n",
            "1562/1562 [==============================] - 31s 20ms/step - loss: 0.4665 - accuracy: 0.8382 - val_loss: 0.5228 - val_accuracy: 0.8302\n",
            "Epoch 44/50\n",
            "1562/1562 [==============================] - 43s 27ms/step - loss: 0.4660 - accuracy: 0.8389 - val_loss: 0.4905 - val_accuracy: 0.8307\n",
            "Epoch 45/50\n",
            "1562/1562 [==============================] - 40s 26ms/step - loss: 0.4486 - accuracy: 0.8461 - val_loss: 0.4965 - val_accuracy: 0.8333\n",
            "Epoch 46/50\n",
            "1562/1562 [==============================] - 24s 15ms/step - loss: 0.4630 - accuracy: 0.8379 - val_loss: 0.5269 - val_accuracy: 0.8259\n",
            "Epoch 47/50\n",
            "1562/1562 [==============================] - 25s 16ms/step - loss: 0.4561 - accuracy: 0.8424 - val_loss: 0.5118 - val_accuracy: 0.8294\n",
            "Epoch 48/50\n",
            "1562/1562 [==============================] - 24s 15ms/step - loss: 0.4514 - accuracy: 0.8432 - val_loss: 0.5180 - val_accuracy: 0.8243\n",
            "Epoch 49/50\n",
            "1562/1562 [==============================] - 24s 16ms/step - loss: 0.4509 - accuracy: 0.8427 - val_loss: 0.5572 - val_accuracy: 0.8154\n",
            "Epoch 50/50\n",
            "1562/1562 [==============================] - 24s 16ms/step - loss: 0.4432 - accuracy: 0.8467 - val_loss: 0.5030 - val_accuracy: 0.8317\n"
          ],
          "name": "stdout"
        }
      ]
    },
    {
      "cell_type": "code",
      "metadata": {
        "colab": {
          "base_uri": "https://localhost:8080/",
          "height": 282
        },
        "id": "XiBw5JF9xXgY",
        "outputId": "3c5801d8-4b7e-46e0-a05e-11a494b34f1f"
      },
      "source": [
        "# Plot loss per iteration\n",
        "plt.plot(r.history['loss'], label='loss')\n",
        "plt.plot(r.history['val_loss'], label='val_loss')\n",
        "plt.legend()"
      ],
      "execution_count": 7,
      "outputs": [
        {
          "output_type": "execute_result",
          "data": {
            "text/plain": [
              "<matplotlib.legend.Legend at 0x7f9c864f74a8>"
            ]
          },
          "metadata": {
            "tags": []
          },
          "execution_count": 7
        },
        {
          "output_type": "display_data",
          "data": {
            "image/png": "[encoded data removed]",
            "text/plain": [
              "<Figure size 432x288 with 1 Axes>"
            ]
          },
          "metadata": {
            "tags": [],
            "needs_background": "light"
          }
        }
      ]
    },
    {
      "cell_type": "code",
      "metadata": {
        "colab": {
          "base_uri": "https://localhost:8080/",
          "height": 282
        },
        "id": "HOiBJbL_xXkz",
        "outputId": "82c16691-8157-4f32-8e99-338ee19d5ad1"
      },
      "source": [
        "# Plot accuracy per iteration\n",
        "plt.plot(r.history['accuracy'], label='acc')\n",
        "plt.plot(r.history['val_accuracy'], label='val_acc')\n",
        "plt.legend()"
      ],
      "execution_count": 8,
      "outputs": [
        {
          "output_type": "execute_result",
          "data": {
            "text/plain": [
              "<matplotlib.legend.Legend at 0x7f9c864460b8>"
            ]
          },
          "metadata": {
            "tags": []
          },
          "execution_count": 8
        },
        {
          "output_type": "display_data",
          "data": {
            "image/png": "[encoded data removed]",
            "text/plain": [
              "<Figure size 432x288 with 1 Axes>"
            ]
          },
          "metadata": {
            "tags": [],
            "needs_background": "light"
          }
        }
      ]
    },
    {
      "cell_type": "code",
      "metadata": {
        "colab": {
          "base_uri": "https://localhost:8080/"
        },
        "id": "31M5kvkgxXqf",
        "outputId": "1ec1de93-9a6c-4ee4-925c-68124c7f4f56"
      },
      "source": [
        "# Evaluate the model\n",
        "print(model.evaluate(x_test, y_test))"
      ],
      "execution_count": 9,
      "outputs": [
        {
          "output_type": "stream",
          "text": [
            "313/313 [==============================] - 1s 2ms/step - loss: 0.5030 - accuracy: 0.8317\n",
            "[0.5030284523963928, 0.8317000269889832]\n"
          ],
          "name": "stdout"
        }
      ]
    },
    {
      "cell_type": "code",
      "metadata": {
        "colab": {
          "base_uri": "https://localhost:8080/",
          "height": 37
        },
        "id": "wThqSU4GxXuu",
        "outputId": "c041d1b2-b58b-4bc7-a40d-22b23aa1a10a"
      },
      "source": [
        "# CIFAR10 labels\n",
        "labels = '''airplane\n",
        "automobile\n",
        "bird\n",
        "cat\n",
        "deer\n",
        "dog\n",
        "frog\n",
        "horse\n",
        "ship\n",
        "truck'''.split()\n",
        "\"\"\"\n",
        "# Label mapping for fasion mnist\n",
        "labels = '''T-shirt/top\n",
        "Trouser\n",
        "Pullover\n",
        "Dress\n",
        "Coat\n",
        "Sandal\n",
        "Shirt\n",
        "Sneaker\n",
        "Bag\n",
        "Ankle boot'''.split(\"\\n\")\n",
        "\"\"\"\n",
        "\"\"\"# this is used if testing is done on normal mnist\n",
        "# Label mapping\n",
        "labels = '''0\n",
        "1\n",
        "2\n",
        "3\n",
        "4\n",
        "5\n",
        "6\n",
        "7\n",
        "8\n",
        "9'''.split(\"\\n\")\"\"\""
      ],
      "execution_count": 10,
      "outputs": [
        {
          "output_type": "execute_result",
          "data": {
            "application/vnd.google.colaboratory.intrinsic+json": {
              "type": "string"
            },
            "text/plain": [
              "'# this is used if testing is done on normal mnist\\n# Label mapping\\nlabels = \\'\\'\\'0\\n1\\n2\\n3\\n4\\n5\\n6\\n7\\n8\\n9\\'\\'\\'.split(\"\\n\")'"
            ]
          },
          "metadata": {
            "tags": []
          },
          "execution_count": 10
        }
      ]
    },
    {
      "cell_type": "code",
      "metadata": {
        "colab": {
          "base_uri": "https://localhost:8080/",
          "height": 498
        },
        "id": "1srad0qnxXz0",
        "outputId": "08d8cee3-f7cb-4b23-d253-6f85aff43f2a"
      },
      "source": [
        "# Plot confusion matrix\n",
        "from sklearn.metrics import confusion_matrix\n",
        "import itertools\n",
        "\n",
        "def plot_confusion_matrix(cm, classes,\n",
        "                          normalize=False,\n",
        "                          title='Confusion matrix',\n",
        "                          cmap=plt.cm.Blues):\n",
        "  \"\"\"\n",
        "  This function prints and plots the confusion matrix.\n",
        "  Normalization can be applied by setting `normalize=True`.\n",
        "  \"\"\"\n",
        "  if normalize:\n",
        "      cm = cm.astype('float') / cm.sum(axis=1)[:, np.newaxis]\n",
        "      print(\"Normalized confusion matrix\")\n",
        "  else:\n",
        "      print('Confusion matrix, without normalization')\n",
        "\n",
        "  print(cm)\n",
        "\n",
        "  plt.imshow(cm, interpolation='nearest', cmap=cmap)\n",
        "  plt.title(title)\n",
        "  plt.colorbar()\n",
        "  tick_marks = np.arange(len(classes))\n",
        "  plt.xticks(tick_marks, classes, rotation=45)\n",
        "  plt.yticks(tick_marks, classes)\n",
        "\n",
        "  fmt = '.2f' if normalize else 'd'\n",
        "  thresh = cm.max() / 2.\n",
        "  for i, j in itertools.product(range(cm.shape[0]), range(cm.shape[1])):\n",
        "      plt.text(j, i, format(cm[i, j], fmt),\n",
        "               horizontalalignment=\"center\",\n",
        "               color=\"white\" if cm[i, j] > thresh else \"black\")\n",
        "\n",
        "  plt.tight_layout()\n",
        "  plt.ylabel('True label')\n",
        "  plt.xlabel('Predicted label')\n",
        "  plt.show()\n",
        "\n",
        "\n",
        "p_test = model.predict(x_test).argmax(axis=1)\n",
        "cm = confusion_matrix(y_test, p_test)\n",
        "plot_confusion_matrix(cm, labels)\n",
        "\n"
      ],
      "execution_count": 11,
      "outputs": [
        {
          "output_type": "stream",
          "text": [
            "Confusion matrix, without normalization\n",
            "[[775  15  45  16  18   1  20   9  50  51]\n",
            " [  4 916   1   3   0   0   6   2  13  55]\n",
            " [ 32   1 716  32  48  31  93  27   6  14]\n",
            " [  8   6  30 671  42  94  94  29   9  17]\n",
            " [  4   1  34  19 836   7  66  29   2   2]\n",
            " [  3   5  22 118  37 700  59  48   2   6]\n",
            " [  2   1  10  19   6   6 951   3   2   0]\n",
            " [  6   1   8  22  38  10  19 887   2   7]\n",
            " [ 22  11   4   2   1   0  13   2 925  20]\n",
            " [  4  29   1   4   1   1   3   1  16 940]]\n"
          ],
          "name": "stdout"
        },
        {
          "output_type": "display_data",
          "data": {
            "image/png": "[encoded data removed]",
            "text/plain": [
              "<Figure size 432x288 with 2 Axes>"
            ]
          },
          "metadata": {
            "tags": [],
            "needs_background": "light"
          }
        }
      ]
    },
    {
      "cell_type": "code",
      "metadata": {
        "colab": {
          "base_uri": "https://localhost:8080/",
          "height": 281
        },
        "id": "jcY8bixkxX3v",
        "outputId": "d85f6ce0-28d9-41d9-edca-947f5ff33f0f"
      },
      "source": [
        "# Show some misclassified examples\n",
        "misclassified_idx = np.where(p_test != y_test)[0]\n",
        "i = np.random.choice(misclassified_idx)\n",
        "plt.imshow(x_test[i], cmap='gray')\n",
        "plt.title(\"True label: %s Predicted: %s\" % (labels[y_test[i]], labels[p_test[i]]));"
      ],
      "execution_count": 12,
      "outputs": [
        {
          "output_type": "display_data",
          "data": {
            "image/png": "[encoded data removed]",
            "text/plain": [
              "<Figure size 432x288 with 1 Axes>"
            ]
          },
          "metadata": {
            "tags": [],
            "needs_background": "light"
          }
        }
      ]
    },
    {
      "cell_type": "code",
      "metadata": {
        "id": "nKk1jQRfxX7h"
      },
      "source": [
        ""
      ],
      "execution_count": 12,
      "outputs": []
    },
    {
      "cell_type": "code",
      "metadata": {
        "id": "-Z8GX8l4xYBj"
      },
      "source": [
        ""
      ],
      "execution_count": 12,
      "outputs": []
    },
    {
      "cell_type": "code",
      "metadata": {
        "id": "Nu3S8GpAxYFi"
      },
      "source": [
        ""
      ],
      "execution_count": 12,
      "outputs": []
    },
    {
      "cell_type": "code",
      "metadata": {
        "id": "9m3IdEIdxYJ2"
      },
      "source": [
        ""
      ],
      "execution_count": 12,
      "outputs": []
    },
    {
      "cell_type": "code",
      "metadata": {
        "id": "4M4nQK5_xYP0"
      },
      "source": [
        ""
      ],
      "execution_count": 12,
      "outputs": []
    },
    {
      "cell_type": "code",
      "metadata": {
        "id": "X-8UIIV-xYUp"
      },
      "source": [
        ""
      ],
      "execution_count": 12,
      "outputs": []
    },
    {
      "cell_type": "code",
      "metadata": {
        "id": "D_SmG0q0xYYS"
      },
      "source": [
        ""
      ],
      "execution_count": 12,
      "outputs": []
    },
    {
      "cell_type": "code",
      "metadata": {
        "id": "gCcxO6MtxYc-"
      },
      "source": [
        ""
      ],
      "execution_count": 12,
      "outputs": []
    }
  ]
}